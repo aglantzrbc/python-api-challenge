{
 "cells": [
  {
   "cell_type": "markdown",
   "metadata": {},
   "source": [
    "# WeatherPy\n",
    "\n",
    "---\n",
    "\n",
    "## Starter Code to Generate Random Geographic Coordinates and a List of Cities"
   ]
  },
  {
   "cell_type": "code",
   "execution_count": 5,
   "metadata": {
    "scrolled": true
   },
   "outputs": [],
   "source": [
    "# Dependencies and Setup\n",
    "import matplotlib.pyplot as plt\n",
    "import pandas as pd\n",
    "import numpy as np\n",
    "import requests\n",
    "import time\n",
    "from scipy.stats import linregress\n",
    "import json\n",
    "\n",
    "# Import the OpenWeatherMap API key\n",
    "from api_keys import weather_api_key\n",
    "\n",
    "# Import citipy to determine the cities based on latitude and longitude\n",
    "from citipy import citipy"
   ]
  },
  {
   "cell_type": "markdown",
   "metadata": {},
   "source": [
    "### Generate the Cities List by Using the `citipy` Library"
   ]
  },
  {
   "cell_type": "code",
   "execution_count": 6,
   "metadata": {},
   "outputs": [
    {
     "name": "stdout",
     "output_type": "stream",
     "text": [
      "Number of cities in the list: 642\n",
      "['waitangi', 'nuuk', \"kapa'a\", 'badger', 'abepura', 'bethel', 'kingsville', 'daru', 'devinuwara', 'port-aux-francais', 'puerto ayora', 'napa', 'barra de santo antonio', 'flin flon', 'mpongwe', 'kandiaro', 'taft', 'zeya', 'nova vicosa', 'crane', 'grytviken', 'newman', 'yeniseysk', 'ribeira grande', 'vilyuchinsk', 'kingston', 'puerto armuelles', 'adamstown', 'sisimiut', 'ust-nera', 'blackmans bay', 'longyearbyen', 'sao francisco', 'papatowai', 'albany', 'iqaluit', 'yemetsk', 'eyl', 'betio village', 'carnarvon', 'klyuchi', 'novobod', 'kodiak', 'utrik', 'aginskoye', 'mount isa', 'puerto madryn', 'fale old settlement', 'vorgashor', 'hawaiian paradise park', 'cabo san lucas', 'edinburgh of the seven seas', 'port alfred', 'margaret river', 'vingt cinq', 'shengli', 'jamestown', 'ancud', 'lerwick', 'el calafate', 'huehuetenango', 'mead valley', 'lihue', 'qaqortoq', 'yuzhno-kurilsk', 'pocatello', 'villa alberto andres alvarado aramburo', 'tonj', 'taltal', 'yellowknife', 'wailua homesteads', 'altamira', 'thunder bay', \"tobol'sk\", 'dryden', 'invercargill', 'prince george', 'sao joao de pirabas', 'revda', 'salym', 'iskateley', 'bilibino', 'argo', 'barentu', 'tiksi', 'al khums', 'isafjordur', 'west island', 'ciudad madero', 'codrington', 'tshabong', 'minas de marcona', 'okha', 'olonkinbyen', 'new norfolk', 'mogadishu', 'bathurst city centre', 'mhamid', 'hamilton', 'charters towers', 'portland', 'afaahiti', 'uturoa', 'saratamata', 'atafu village', 'tadine', 'east london', 'udachny', 'harper', 'al qusayr', 'shitanjing', 'karlivka', 'santa terezinha', 'katsuura', 'avarua', 'wattegama', 'ilulissat', 'guerrero negro', 'camana', 'souillac', 'georgetown', 'kargasok', 'college', 'ushuaia', 'thompson', 'kooringal', 'baukau', 'blenheim', 'santanyi', 'sinjar', 'crucecita', 'bam', 'keflavik', 'vegreville', 'sakassou', 'taiohae', 'ozark', 'palikir - national government center', 'lebu', 'khoyniki', 'sumenep', 'qamdo', 'sant lluis', 'lompoc', 'gadzhiyevo', 'jiangzi', 'hobyo', 'borogontsy', 'kupang', \"'ohonua\", 'port blair', 'anadyr', 'grootfontein', 'bratsk', 'conception bay south', 'queenstown', 'rechka-vydrino', 'huron', 'lekki', 'sragen', 'weno', 'salinopolis', 'rzeszow', 'kungur', 'altai', 'duba', 'sittwe', 'hammerfest', 'tolanaro', 'whitehorse', 'stony hill', 'lazaro cardenas', 'port mathurin', 'nianzishan', 'bamboo flat', 'san rafael del sur', 'new kingman-butler', 'yangor', \"nar'yan-mar\", 'zemio', 'puerto natales', 'tazacorte', 'severo-yeniseyskiy', 'afif', \"arkhangel'sk\", 'jinzhou', 'mahibadhoo', 'karratha', 'turbat', 'santana', 'akrehamn', 'san patricio', 'ulety', 'borkum', 'qui nhon', 'terekli-mekteb', 'mariinskiy posad', 'malvan', 'laojunmiao', 'afua', 'ceylanpinar', 'quarai', 'villiers', 'talnakh', 'karamay', 'coquimbo', 'mana', 'caldas da rainha', 'jalai nur', 'lethem', 'yishui', 'carolina beach', 'sur', 'nizhnegorskiy', 'letlhakane', 'port lincoln', 'essaouira', 'suomussalmi', 'dubbo', 'beira', 'lufilufi', 'iquique', 'bafq', 'tomatlan', 'frontera', 'kyaikkami', 'ranau', 'hermanus', 'lahaina', 'dhuusamarreeb', \"mil'kovo\", 'aquidauana', 'melekeok village', 'sao gabriel da cachoeira', 'dauphin', 'stanley', 'astaneh-ye ashrafiyeh', 'manghit', 'constantia', 'zhangye', 'alotau', 'xai-xai', 'brookings', 'kalabo', 'bredasdorp', 'fonadhoo', 'kununurra', 'walvis bay', 'nova sintra', 'katsuren-haebaru', 'al hawatah', 'isangel', 'mar del plata', 'enewetak', 'suva', 'petropavlovsk-kamchatsky', 'saint croix', 'isla mujeres', 'kilindoni', \"n'dalatando\", 'tabou', 'am djarass', 'chonchi', 'haiku-pauwela', 'richards bay', \"bei'an\", 'susuman', 'lisala', 'bayan nur', 'pocone', 'ambarakaraka', 'alexandria', 'pelabuhanratu', 'saint-leu', 'nishinoomote', 'nanning', 'orapa', 'al ain city', 'igdir', 'mejit', 'brisas de zicatela', 'kattivakkam', 'boguchany', 'fortaleza', 'benguela', 'boende', 'alice springs', 'baiti', 'chinde', 'hotan', 'kurskaya', 'turpan', 'oum hadjer', 'kuta', 'takamaka', 'hami', 'vlissingen', 'bandarbeyla', 'tsiombe', 'brezina', 'zhezqazghan', 'mezhdurechenskiy', 'murun-kuren', 'kaltan', 'vadso', 'hachinohe', 'kuqa', 'pochaiv', 'dawei', 'ta`u', \"ji'an\", 'camacupa', 'bayganin', 'fada', 'lubao', 'alpena', 'aasiaat', 'exu', 'cobija', 'san felipe', 'i-n-salah', 'vernon', 'acarau', 'mandalgovi', 'hailar', 'poltava', 'parambu', 'beloyarskiy', 'fort bragg', 'zarichne', 'makhjan', 'lata', 'jamaame', 'kone', 'scottburgh', 'carroll', 'punta arenas', 'porto novo', 'mount pearl', \"port saint john's\", 'mbandaka', 'masalovka', 'praia', 'albertina', 'greenland', 'babolsar', 'savanna-la-mar', 'shalqar', 'tokonou', 'thinadhoo', 'kalemie', 'port elizabeth', \"'ibri\", 'tarawa', 'la sarre', 'vila franca do campo', 'hilo', 'kirakira', 'filey', 'polyarnyy', 'akyurt', 'yagry', 'tianshui', 'howrah', 'pangody', 'lalibela', 'aljezur', 'concepcion', 'pacific grove', 'toga village', 'nagqu', 'siuna', 'ixtapa', 'bardai', 'geraldton', 'labrador city', 'tamanrasset', 'acapulco de juarez', 'morehead city', 'pisco', 'san antonio del estrecho', 'gevrai', 'sitka', 'chernyshevskiy', 'inyati', 'mata-utu', 'sparti', 'port isabel', 'namibe', 'dhidhdhoo', 'saipan', 'masaka', 'lashio', 'sanctuary point', 'hithadhoo', 'shira', 'alegrete', 'wellington', 'zag', 'trairi', 'nanlong', 'ad dindar', 'naze', 'mongu', 'el obeid', 'homer', 'bakanas', 'tchintabaraden', 'malpe', 'egilsstadir', 'fatehgarh churian', 'hosakote', 'lhasa', 'labuan', 'la ronge', 'changji', 'coahuayana de hidalgo', 'kailua-kona', 'shizunai-furukawacho', 'malango', 'as samawah', 'flying fish cove', 'korba', 'la libertad', 'las khorey', 'chandler', 'rongelap', 'rio tuba', 'tidjikja', 'gordonvale', 'saint-pierre', 'terra santa', 'san antonio de pale', 'kuusamo', 'island harbour', 'santa cruz', 'road town', 'javanrud', 'meadow lakes', 'ewo', 'paramirim', 'zainsk', 'guatrache', 'bubaque', 'fort mcmurray', 'galvez', 'bodden town', 'san andres', 'smara', 'farasan', 'saint-philippe', 'okahandja', 'abra pampa', 'lobujya', 'tukrah', \"st. john's\", 'chanika', 'las vegas', 'viedma', 'wadesboro', 'thiruvarur', 'mount gambier', 'bandar abbas', 'miyako', 'vanimo', 'key west', 'los angeles', 'kisesa', 'meerbusch', 'brandfort', 'seydi', 'reggane', 'praia da vitoria', 'port hedland', 'nueva gerona', 'san julian', 'kuressaare', 'saudarkrokur', 'nizhneangarsk', 'sinabang', 'malvik', 'ahau', 'kirensk', 'namsos', 'gislaved', 'dudinka', 'al hufuf', 'canoinhas', 'regina', 'saint-felicien', 'vilyuysk', 'doctor alberto oviedo mota', 'cidade velha', 'umm al quwain city', 'arraial do cabo', 'champerico', 'gogrial', 'papao', 'machico', 'balikesir', 'lagunas', 'masterton', 'emerald', 'usogorsk', 'khandyga', 'coalcoman de vazquez pallares', 'dunedin', 'thabazimbi', 'selfoss', 'mariehamn', 'nkowakowa', 'natal', 'yaren', 'sucua', 'basco', 'christchurch', 'kashgar', 'talakan', 'kemijarvi', 'salekhard', 'ujae', 'gisborne', 'kazalinsk', 'glace bay', 'aykhal', 'puerto baquerizo moreno', 'puerto aysen', 'fort st. john', 'kristiansund', 'hadibu', 'felida', 'mabaruma', 'rio grande', 'greenville', 'tralee', 'wynyard', 'castillos', 'pokrovsk', 'kerikeri', 'pasuquin', 'kulia village', 'gizo', 'ain leuh', 'boulsa', 'honiara', 'cochrane', \"och'amch'ire\", 'ariquemes', 'cockburn town', 'damara', 'matane', 'siniscola', 'magadan', 'shagonar', 'kuala lipis', 'benghazi', 'dangriga', 'las heras', 'belmonte', 'labytnangi', 'galesong', 'diego de almagro', 'yeppoon', 'marsh harbour', 'kismayo', 'cidreira', 'stornoway', 'northam', 'ulaangom', 'uyskoye', 'gorontalo', 'napili-honokowai', 'heihe', 'choyr', 'odda', 'san carlos del zulia', 'villa gesell', 'tulun', 'albert lea', 'buka', 'fortuna', 'port macquarie', 'ternate', 'kolokani', 'amos', 'dalandzadgad', 'sao paulo de olivenca', 'sao joao da barra', 'levuka', 'loukhi', 'aydincik', 'st. paul', 'karasburg', 'pitea', 'phayao', 'limassol', 'magdagachi', 'vung tau', 'altar', 'minato', 'hulyaypole', 'el coacoyul', 'antofagasta', 'fernie', 'kzyltu', 'changling', 'kozova', 'kavieng', 'yelizovo', 'djenne', 'velikiy novgorod', 'banda aceh', 'kalispell', 'nikolayevsk-on-amure', 'buritama', 'bambanglipuro', 'kofu', 'tofol', 'andergrove', 'metu', \"ma'an\", 'ketchikan', 'kitimat', 'phang nga', 'hasaki', 'howard springs', 'rio preto da eva', 'zahedan', 'jidong', 'ust-tsilma', 'kurumkan', 'isle of lewis', 'kairouan', 'moranbah', 'rundu', \"saksaul'skiy\", 'canchungo', 'tutoia', 'aden', 'kapuskasing', 'chibougamau', 'ebon']\n"
     ]
    }
   ],
   "source": [
    "# Empty list for holding the latitude and longitude combinations\n",
    "lat_lngs = []\n",
    "\n",
    "# Empty list for holding the cities names\n",
    "cities = []\n",
    "\n",
    "# Range of latitudes and longitudes\n",
    "lat_range = (-90, 90)\n",
    "lng_range = (-180, 180)\n",
    "\n",
    "# Create a set of random lat and lng combinations\n",
    "lats = np.random.uniform(lat_range[0], lat_range[1], size=1500)\n",
    "lngs = np.random.uniform(lng_range[0], lng_range[1], size=1500)\n",
    "lat_lngs = zip(lats, lngs)\n",
    "\n",
    "# Identify nearest city for each lat, lng combination\n",
    "for lat_lng in lat_lngs:\n",
    "    city = citipy.nearest_city(lat_lng[0], lat_lng[1]).city_name\n",
    "    \n",
    "    # If the city is unique, then add it to a our cities list\n",
    "    if city not in cities:\n",
    "        cities.append(city)\n",
    "\n",
    "# Print the city count to confirm sufficient count\n",
    "print(f\"Number of cities in the list: {len(cities)}\")\n",
    "print(cities)"
   ]
  },
  {
   "cell_type": "markdown",
   "metadata": {},
   "source": [
    "---"
   ]
  },
  {
   "cell_type": "markdown",
   "metadata": {},
   "source": [
    "## Requirement 1: Create Plots to Showcase the Relationship Between Weather Variables and Latitude\n",
    "\n",
    "### Use the OpenWeatherMap API to retrieve weather data from the cities list generated in the started code"
   ]
  },
  {
   "cell_type": "code",
   "execution_count": 7,
   "metadata": {},
   "outputs": [
    {
     "ename": "JSONDecodeError",
     "evalue": "Expecting value: line 1 column 1 (char 0)",
     "output_type": "error",
     "traceback": [
      "\u001b[1;31m---------------------------------------------------------------------------\u001b[0m",
      "\u001b[1;31mJSONDecodeError\u001b[0m                           Traceback (most recent call last)",
      "File \u001b[1;32m~\\anaconda3\\lib\\site-packages\\requests\\models.py:971\u001b[0m, in \u001b[0;36mResponse.json\u001b[1;34m(self, **kwargs)\u001b[0m\n\u001b[0;32m    970\u001b[0m \u001b[38;5;28;01mtry\u001b[39;00m:\n\u001b[1;32m--> 971\u001b[0m     \u001b[38;5;28;01mreturn\u001b[39;00m complexjson\u001b[38;5;241m.\u001b[39mloads(\u001b[38;5;28mself\u001b[39m\u001b[38;5;241m.\u001b[39mtext, \u001b[38;5;241m*\u001b[39m\u001b[38;5;241m*\u001b[39mkwargs)\n\u001b[0;32m    972\u001b[0m \u001b[38;5;28;01mexcept\u001b[39;00m JSONDecodeError \u001b[38;5;28;01mas\u001b[39;00m e:\n\u001b[0;32m    973\u001b[0m     \u001b[38;5;66;03m# Catch JSON-related errors and raise as requests.JSONDecodeError\u001b[39;00m\n\u001b[0;32m    974\u001b[0m     \u001b[38;5;66;03m# This aliases json.JSONDecodeError and simplejson.JSONDecodeError\u001b[39;00m\n",
      "File \u001b[1;32m~\\anaconda3\\lib\\json\\__init__.py:346\u001b[0m, in \u001b[0;36mloads\u001b[1;34m(s, cls, object_hook, parse_float, parse_int, parse_constant, object_pairs_hook, **kw)\u001b[0m\n\u001b[0;32m    343\u001b[0m \u001b[38;5;28;01mif\u001b[39;00m (\u001b[38;5;28mcls\u001b[39m \u001b[38;5;129;01mis\u001b[39;00m \u001b[38;5;28;01mNone\u001b[39;00m \u001b[38;5;129;01mand\u001b[39;00m object_hook \u001b[38;5;129;01mis\u001b[39;00m \u001b[38;5;28;01mNone\u001b[39;00m \u001b[38;5;129;01mand\u001b[39;00m\n\u001b[0;32m    344\u001b[0m         parse_int \u001b[38;5;129;01mis\u001b[39;00m \u001b[38;5;28;01mNone\u001b[39;00m \u001b[38;5;129;01mand\u001b[39;00m parse_float \u001b[38;5;129;01mis\u001b[39;00m \u001b[38;5;28;01mNone\u001b[39;00m \u001b[38;5;129;01mand\u001b[39;00m\n\u001b[0;32m    345\u001b[0m         parse_constant \u001b[38;5;129;01mis\u001b[39;00m \u001b[38;5;28;01mNone\u001b[39;00m \u001b[38;5;129;01mand\u001b[39;00m object_pairs_hook \u001b[38;5;129;01mis\u001b[39;00m \u001b[38;5;28;01mNone\u001b[39;00m \u001b[38;5;129;01mand\u001b[39;00m \u001b[38;5;129;01mnot\u001b[39;00m kw):\n\u001b[1;32m--> 346\u001b[0m     \u001b[38;5;28;01mreturn\u001b[39;00m \u001b[43m_default_decoder\u001b[49m\u001b[38;5;241;43m.\u001b[39;49m\u001b[43mdecode\u001b[49m\u001b[43m(\u001b[49m\u001b[43ms\u001b[49m\u001b[43m)\u001b[49m\n\u001b[0;32m    347\u001b[0m \u001b[38;5;28;01mif\u001b[39;00m \u001b[38;5;28mcls\u001b[39m \u001b[38;5;129;01mis\u001b[39;00m \u001b[38;5;28;01mNone\u001b[39;00m:\n",
      "File \u001b[1;32m~\\anaconda3\\lib\\json\\decoder.py:337\u001b[0m, in \u001b[0;36mJSONDecoder.decode\u001b[1;34m(self, s, _w)\u001b[0m\n\u001b[0;32m    333\u001b[0m \u001b[38;5;124;03m\"\"\"Return the Python representation of ``s`` (a ``str`` instance\u001b[39;00m\n\u001b[0;32m    334\u001b[0m \u001b[38;5;124;03mcontaining a JSON document).\u001b[39;00m\n\u001b[0;32m    335\u001b[0m \n\u001b[0;32m    336\u001b[0m \u001b[38;5;124;03m\"\"\"\u001b[39;00m\n\u001b[1;32m--> 337\u001b[0m obj, end \u001b[38;5;241m=\u001b[39m \u001b[38;5;28;43mself\u001b[39;49m\u001b[38;5;241;43m.\u001b[39;49m\u001b[43mraw_decode\u001b[49m\u001b[43m(\u001b[49m\u001b[43ms\u001b[49m\u001b[43m,\u001b[49m\u001b[43m \u001b[49m\u001b[43midx\u001b[49m\u001b[38;5;241;43m=\u001b[39;49m\u001b[43m_w\u001b[49m\u001b[43m(\u001b[49m\u001b[43ms\u001b[49m\u001b[43m,\u001b[49m\u001b[43m \u001b[49m\u001b[38;5;241;43m0\u001b[39;49m\u001b[43m)\u001b[49m\u001b[38;5;241;43m.\u001b[39;49m\u001b[43mend\u001b[49m\u001b[43m(\u001b[49m\u001b[43m)\u001b[49m\u001b[43m)\u001b[49m\n\u001b[0;32m    338\u001b[0m end \u001b[38;5;241m=\u001b[39m _w(s, end)\u001b[38;5;241m.\u001b[39mend()\n",
      "File \u001b[1;32m~\\anaconda3\\lib\\json\\decoder.py:355\u001b[0m, in \u001b[0;36mJSONDecoder.raw_decode\u001b[1;34m(self, s, idx)\u001b[0m\n\u001b[0;32m    354\u001b[0m \u001b[38;5;28;01mexcept\u001b[39;00m \u001b[38;5;167;01mStopIteration\u001b[39;00m \u001b[38;5;28;01mas\u001b[39;00m err:\n\u001b[1;32m--> 355\u001b[0m     \u001b[38;5;28;01mraise\u001b[39;00m JSONDecodeError(\u001b[38;5;124m\"\u001b[39m\u001b[38;5;124mExpecting value\u001b[39m\u001b[38;5;124m\"\u001b[39m, s, err\u001b[38;5;241m.\u001b[39mvalue) \u001b[38;5;28;01mfrom\u001b[39;00m \u001b[38;5;28mNone\u001b[39m\n\u001b[0;32m    356\u001b[0m \u001b[38;5;28;01mreturn\u001b[39;00m obj, end\n",
      "\u001b[1;31mJSONDecodeError\u001b[0m: Expecting value: line 1 column 1 (char 0)",
      "\nDuring handling of the above exception, another exception occurred:\n",
      "\u001b[1;31mJSONDecodeError\u001b[0m                           Traceback (most recent call last)",
      "Cell \u001b[1;32mIn[7], line 3\u001b[0m\n\u001b[0;32m      1\u001b[0m \u001b[38;5;66;03m# Set the API base URL\u001b[39;00m\n\u001b[0;32m      2\u001b[0m url \u001b[38;5;241m=\u001b[39m \u001b[38;5;124mf\u001b[39m\u001b[38;5;124m\"\u001b[39m\u001b[38;5;124mhttp://api.openweathermap.org/geo/3.0/direct/?q=\u001b[39m\u001b[38;5;124m\"\u001b[39m\n\u001b[1;32m----> 3\u001b[0m weather \u001b[38;5;241m=\u001b[39m \u001b[43mrequests\u001b[49m\u001b[38;5;241;43m.\u001b[39;49m\u001b[43mget\u001b[49m\u001b[43m(\u001b[49m\u001b[43murl\u001b[49m\u001b[43m)\u001b[49m\u001b[38;5;241;43m.\u001b[39;49m\u001b[43mjson\u001b[49m\u001b[43m(\u001b[49m\u001b[43m)\u001b[49m\n\u001b[0;32m      4\u001b[0m \u001b[38;5;28mprint\u001b[39m(weather)\n\u001b[0;32m      6\u001b[0m \u001b[38;5;66;03m# Define an empty list to fetch the weather data for each city\u001b[39;00m\n",
      "File \u001b[1;32m~\\anaconda3\\lib\\site-packages\\requests\\models.py:975\u001b[0m, in \u001b[0;36mResponse.json\u001b[1;34m(self, **kwargs)\u001b[0m\n\u001b[0;32m    971\u001b[0m     \u001b[38;5;28;01mreturn\u001b[39;00m complexjson\u001b[38;5;241m.\u001b[39mloads(\u001b[38;5;28mself\u001b[39m\u001b[38;5;241m.\u001b[39mtext, \u001b[38;5;241m*\u001b[39m\u001b[38;5;241m*\u001b[39mkwargs)\n\u001b[0;32m    972\u001b[0m \u001b[38;5;28;01mexcept\u001b[39;00m JSONDecodeError \u001b[38;5;28;01mas\u001b[39;00m e:\n\u001b[0;32m    973\u001b[0m     \u001b[38;5;66;03m# Catch JSON-related errors and raise as requests.JSONDecodeError\u001b[39;00m\n\u001b[0;32m    974\u001b[0m     \u001b[38;5;66;03m# This aliases json.JSONDecodeError and simplejson.JSONDecodeError\u001b[39;00m\n\u001b[1;32m--> 975\u001b[0m     \u001b[38;5;28;01mraise\u001b[39;00m RequestsJSONDecodeError(e\u001b[38;5;241m.\u001b[39mmsg, e\u001b[38;5;241m.\u001b[39mdoc, e\u001b[38;5;241m.\u001b[39mpos)\n",
      "\u001b[1;31mJSONDecodeError\u001b[0m: Expecting value: line 1 column 1 (char 0)"
     ]
    }
   ],
   "source": [
    "# Set the API base URL\n",
    "url = f\"http://api.openweathermap.org/geo/3.0/direct/?q=\"\n",
    "weather = requests.get(url).json()\n",
    "print(weather)\n",
    "\n",
    "# Define an empty list to fetch the weather data for each city\n",
    "city_data = []\n",
    "\n",
    "# Print to logger\n",
    "print(\"Beginning Data Retrieval     \")\n",
    "print(\"-----------------------------\")\n",
    "\n",
    "# Create counters\n",
    "record_count = 1\n",
    "set_count = 1\n",
    "\n",
    "# Loop through all the cities in our list to fetch weather data\n",
    "for i, city in enumerate(cities):\n",
    "        \n",
    "    # Group cities in sets of 50 for logging purposes\n",
    "    if (i % 50 == 0 and i >= 50):\n",
    "        set_count += 1\n",
    "        record_count = 0\n",
    "\n",
    "    # Create endpoint URL with each city\n",
    "    city_url = f\"{url}{city}&appid={weather_api_key}\"\n",
    "    city_url_percent = city_url.replace(\" \", \"%20\")\n",
    "    \n",
    "    # Log the url, record, and set numbers\n",
    "    print(\"Processing Record %s of Set %s | %s\" % (record_count, set_count, city))\n",
    "\n",
    "    # Add 1 to the record count\n",
    "    record_count += 1\n",
    "\n",
    "    # Run an API request for each of the cities\n",
    "    try:\n",
    "        # Parse the JSON and retrieve data\n",
    "        response2 = requests.get(city_url_percent)\n",
    "        city_weather = response2.json()\n",
    "\n",
    "        # Parse out latitude, longitude, max temp, humidity, cloudiness, wind speed, country, and date\n",
    "        city_lat = city_weather[\"coord\"][0][\"lat\"]\n",
    "        city_lng = city_weather[\"coord\"][1][\"lat\"]\n",
    "        city_max_temp = city_weather[\"main\"][6][\"temp_max\"]\n",
    "        city_humidity = city_weather[\"main\"][2][\"humidity\"]\n",
    "        city_clouds = city_weather[\"clouds\"][0][\"all\"]\n",
    "        city_wind = city_weather[\"wind\"]\n",
    "        city_country = city_weather[\"sys\"][0][\"country\"]\n",
    "        city_date = city_weather[\"dt\"]\n",
    "\n",
    "        # Append the City information into city_data list\n",
    "        city_data.append({\"City\": city, \n",
    "                          \"Lat\": city_lat, \n",
    "                          \"Lng\": city_lng, \n",
    "                          \"Max Temp\": city_max_temp,\n",
    "                          \"Humidity\": city_humidity,\n",
    "                          \"Cloudiness\": city_clouds,\n",
    "                          \"Wind Speed\": city_wind,\n",
    "                          \"Country\": city_country,\n",
    "                          \"Date\": city_date})\n",
    "\n",
    "    # If an error is experienced, skip the city\n",
    "    except:\n",
    "        print(\"City not found. Skipping...\")\n",
    "        pass\n",
    "              \n",
    "# Indicate that Data Loading is complete \n",
    "print(\"-----------------------------\")\n",
    "print(\"Data Retrieval Complete      \")\n",
    "print(\"-----------------------------\")"
   ]
  },
  {
   "cell_type": "code",
   "execution_count": null,
   "metadata": {},
   "outputs": [],
   "source": [
    "# Convert the cities weather data into a Pandas DataFrame\n",
    "city_data_df = # YOUR CODE HERE\n",
    "\n",
    "# Show Record Count\n",
    "city_data_df.count()"
   ]
  },
  {
   "cell_type": "code",
   "execution_count": null,
   "metadata": {},
   "outputs": [],
   "source": [
    "# Display sample data\n",
    "city_data_df.head()"
   ]
  },
  {
   "cell_type": "code",
   "execution_count": null,
   "metadata": {},
   "outputs": [],
   "source": [
    "# Export the City_Data into a csv\n",
    "city_data_df.to_csv(\"output_data/cities.csv\", index_label=\"City_ID\")"
   ]
  },
  {
   "cell_type": "code",
   "execution_count": null,
   "metadata": {},
   "outputs": [],
   "source": [
    "# Read saved data\n",
    "city_data_df = pd.read_csv(\"output_data/cities.csv\", index_col=\"City_ID\")\n",
    "\n",
    "# Display sample data\n",
    "city_data_df.head()"
   ]
  },
  {
   "cell_type": "markdown",
   "metadata": {},
   "source": [
    "### Create the Scatter Plots Requested\n",
    "\n",
    "#### Latitude Vs. Temperature"
   ]
  },
  {
   "cell_type": "code",
   "execution_count": null,
   "metadata": {
    "tags": []
   },
   "outputs": [],
   "source": [
    "# Build scatter plot for latitude vs. temperature\n",
    "# YOUR CODE HERE\n",
    "\n",
    "# Incorporate the other graph properties\n",
    "# YOUR CODE HERE\n",
    "\n",
    "# Save the figure\n",
    "plt.savefig(\"output_data/Fig1.png\")\n",
    "\n",
    "# Show plot\n",
    "plt.show()"
   ]
  },
  {
   "cell_type": "markdown",
   "metadata": {},
   "source": [
    "#### Latitude Vs. Humidity"
   ]
  },
  {
   "cell_type": "code",
   "execution_count": null,
   "metadata": {},
   "outputs": [],
   "source": [
    "# Build the scatter plots for latitude vs. humidity\n",
    "# YOUR CODE HERE\n",
    "\n",
    "# Incorporate the other graph properties\n",
    "# YOUR CODE HERE\n",
    "\n",
    "# Save the figure\n",
    "plt.savefig(\"output_data/Fig2.png\")\n",
    "\n",
    "# Show plot\n",
    "plt.show()"
   ]
  },
  {
   "cell_type": "markdown",
   "metadata": {},
   "source": [
    "#### Latitude Vs. Cloudiness"
   ]
  },
  {
   "cell_type": "code",
   "execution_count": null,
   "metadata": {},
   "outputs": [],
   "source": [
    "# Build the scatter plots for latitude vs. cloudiness\n",
    "# YOUR CODE HERE\n",
    "\n",
    "# Incorporate the other graph properties\n",
    "# YOUR CODE HERE\n",
    "\n",
    "# Save the figure\n",
    "plt.savefig(\"output_data/Fig3.png\")\n",
    "\n",
    "# Show plot\n",
    "plt.show()"
   ]
  },
  {
   "cell_type": "markdown",
   "metadata": {},
   "source": [
    "#### Latitude vs. Wind Speed Plot"
   ]
  },
  {
   "cell_type": "code",
   "execution_count": null,
   "metadata": {},
   "outputs": [],
   "source": [
    "# Build the scatter plots for latitude vs. wind speed\n",
    "# YOUR CODE HERE\n",
    "\n",
    "# Incorporate the other graph properties\n",
    "# YOUR CODE HERE\n",
    "\n",
    "# Save the figure\n",
    "plt.savefig(\"output_data/Fig4.png\")\n",
    "\n",
    "# Show plot\n",
    "plt.show()"
   ]
  },
  {
   "cell_type": "markdown",
   "metadata": {},
   "source": [
    "---\n",
    "\n",
    "## Requirement 2: Compute Linear Regression for Each Relationship\n"
   ]
  },
  {
   "cell_type": "code",
   "execution_count": null,
   "metadata": {},
   "outputs": [],
   "source": [
    "# Define a function to create Linear Regression plots\n",
    "# YOUR CODE HERE"
   ]
  },
  {
   "cell_type": "code",
   "execution_count": null,
   "metadata": {},
   "outputs": [],
   "source": [
    "# Create a DataFrame with the Northern Hemisphere data (Latitude >= 0)\n",
    "# YOUR CODE HERE\n",
    "\n",
    "# Display sample data\n",
    "northern_hemi_df.head()"
   ]
  },
  {
   "cell_type": "code",
   "execution_count": null,
   "metadata": {},
   "outputs": [],
   "source": [
    "# Create a DataFrame with the Southern Hemisphere data (Latitude < 0)\n",
    "# YOUR CODE HERE\n",
    "\n",
    "# Display sample data\n",
    "southern_hemi_df.head()"
   ]
  },
  {
   "cell_type": "markdown",
   "metadata": {},
   "source": [
    "###  Temperature vs. Latitude Linear Regression Plot"
   ]
  },
  {
   "cell_type": "code",
   "execution_count": null,
   "metadata": {},
   "outputs": [],
   "source": [
    "# Linear regression on Northern Hemisphere\n",
    "# YOUR CODE HERE"
   ]
  },
  {
   "cell_type": "code",
   "execution_count": null,
   "metadata": {},
   "outputs": [],
   "source": [
    "# Linear regression on Southern Hemisphere\n",
    "# YOUR CODE HERE"
   ]
  },
  {
   "cell_type": "markdown",
   "metadata": {},
   "source": [
    "**Discussion about the linear relationship:** YOUR RESPONSE HERE"
   ]
  },
  {
   "cell_type": "markdown",
   "metadata": {},
   "source": [
    "### Humidity vs. Latitude Linear Regression Plot"
   ]
  },
  {
   "cell_type": "code",
   "execution_count": null,
   "metadata": {},
   "outputs": [],
   "source": [
    "# Northern Hemisphere\n",
    "# YOUR CODE HERE"
   ]
  },
  {
   "cell_type": "code",
   "execution_count": null,
   "metadata": {},
   "outputs": [],
   "source": [
    "# Southern Hemisphere\n",
    "# YOUR CODE HERE"
   ]
  },
  {
   "cell_type": "markdown",
   "metadata": {},
   "source": [
    "**Discussion about the linear relationship:** YOUR RESPONSE HERE"
   ]
  },
  {
   "cell_type": "markdown",
   "metadata": {},
   "source": [
    "### Cloudiness vs. Latitude Linear Regression Plot"
   ]
  },
  {
   "cell_type": "code",
   "execution_count": null,
   "metadata": {},
   "outputs": [],
   "source": [
    "# Northern Hemisphere\n",
    "# YOUR CODE HERE"
   ]
  },
  {
   "cell_type": "code",
   "execution_count": null,
   "metadata": {},
   "outputs": [],
   "source": [
    "# Southern Hemisphere\n",
    "# YOUR CODE HERE"
   ]
  },
  {
   "cell_type": "markdown",
   "metadata": {},
   "source": [
    "**Discussion about the linear relationship:** YOUR RESPONSE HERE"
   ]
  },
  {
   "cell_type": "markdown",
   "metadata": {},
   "source": [
    "### Wind Speed vs. Latitude Linear Regression Plot"
   ]
  },
  {
   "cell_type": "code",
   "execution_count": null,
   "metadata": {},
   "outputs": [],
   "source": [
    "# Northern Hemisphere\n",
    "# YOUR CODE HERE"
   ]
  },
  {
   "cell_type": "code",
   "execution_count": null,
   "metadata": {},
   "outputs": [],
   "source": [
    "# Southern Hemisphere\n",
    "# YOUR CODE HERE"
   ]
  },
  {
   "cell_type": "markdown",
   "metadata": {},
   "source": [
    "**Discussion about the linear relationship:** YOUR RESPONSE HERE"
   ]
  },
  {
   "cell_type": "code",
   "execution_count": null,
   "metadata": {},
   "outputs": [],
   "source": [
    "url_side = \"https://api.openweathermap.org/data/2.5/weather?id=524901&appid=477790e97a5434da7cc7e8149a3f45fc\"\n",
    "response2 = requests.get(url_side)\n",
    "data2 = response2.json()\n",
    "print(json.dumps(data2, indent=4, sort_keys=True))"
   ]
  },
  {
   "cell_type": "code",
   "execution_count": 9,
   "metadata": {},
   "outputs": [
    {
     "name": "stdout",
     "output_type": "stream",
     "text": [
      "http://api.openweathermap.org/geo/1.0/direct/?q=hasaki&appid=477790e97a5434da7cc7e8149a3f45fc\n"
     ]
    }
   ],
   "source": [
    "print(city_url_percent)"
   ]
  },
  {
   "cell_type": "code",
   "execution_count": null,
   "metadata": {},
   "outputs": [],
   "source": []
  }
 ],
 "metadata": {
  "anaconda-cloud": {},
  "kernel_info": {
   "name": "python3"
  },
  "kernelspec": {
   "display_name": "Python 3 (ipykernel)",
   "language": "python",
   "name": "python3"
  },
  "language_info": {
   "codemirror_mode": {
    "name": "ipython",
    "version": 3
   },
   "file_extension": ".py",
   "mimetype": "text/x-python",
   "name": "python",
   "nbconvert_exporter": "python",
   "pygments_lexer": "ipython3",
   "version": "3.10.9"
  },
  "latex_envs": {
   "LaTeX_envs_menu_present": true,
   "autoclose": false,
   "autocomplete": true,
   "bibliofile": "biblio.bib",
   "cite_by": "apalike",
   "current_citInitial": 1,
   "eqLabelWithNumbers": true,
   "eqNumInitial": 1,
   "hotkeys": {
    "equation": "Ctrl-E",
    "itemize": "Ctrl-I"
   },
   "labels_anchors": false,
   "latex_user_defs": false,
   "report_style_numbering": false,
   "user_envs_cfg": false
  },
  "nteract": {
   "version": "0.12.3"
  }
 },
 "nbformat": 4,
 "nbformat_minor": 4
}
